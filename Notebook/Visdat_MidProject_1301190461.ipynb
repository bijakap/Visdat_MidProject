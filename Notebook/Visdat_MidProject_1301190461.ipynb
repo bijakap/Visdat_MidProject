{
  "nbformat": 4,
  "nbformat_minor": 0,
  "metadata": {
    "colab": {
      "name": "Visdat_MidProject_1301190461.ipynb",
      "provenance": [],
      "collapsed_sections": []
    },
    "kernelspec": {
      "display_name": "Python 3",
      "name": "python3"
    },
    "language_info": {
      "name": "python"
    }
  },
  "cells": [
    {
      "cell_type": "code",
      "metadata": {
        "id": "hvk86YtWdhTm"
      },
      "source": [
        "import pandas as pd\n",
        "import numpy as np\n",
        "import matplotlib as mpl\n",
        "import matplotlib.pyplot as plt\n",
        "import seaborn as sns"
      ],
      "execution_count": 243,
      "outputs": []
    },
    {
      "cell_type": "code",
      "metadata": {
        "colab": {
          "base_uri": "https://localhost:8080/",
          "height": 203
        },
        "id": "AZPVU_U4dnSG",
        "outputId": "9535a62d-9ef5-49cc-ea42-6338c3c4f4a5"
      },
      "source": [
        "df_1 = pd.read_csv(\"https://raw.githubusercontent.com/manusia-kesekian/Visdat_MidProject/master/Data%20Set/Data%20Set%201.csv?token=AONK7GX57KCP7R5DAKCLNZDBRNSWS\")\n",
        "df_1.head()"
      ],
      "execution_count": 244,
      "outputs": [
        {
          "output_type": "execute_result",
          "data": {
            "text/html": [
              "<div>\n",
              "<style scoped>\n",
              "    .dataframe tbody tr th:only-of-type {\n",
              "        vertical-align: middle;\n",
              "    }\n",
              "\n",
              "    .dataframe tbody tr th {\n",
              "        vertical-align: top;\n",
              "    }\n",
              "\n",
              "    .dataframe thead th {\n",
              "        text-align: right;\n",
              "    }\n",
              "</style>\n",
              "<table border=\"1\" class=\"dataframe\">\n",
              "  <thead>\n",
              "    <tr style=\"text-align: right;\">\n",
              "      <th></th>\n",
              "      <th>date</th>\n",
              "      <th>new_tested</th>\n",
              "      <th>acc_tested</th>\n",
              "      <th>new_confirmed</th>\n",
              "      <th>acc_confirmed</th>\n",
              "      <th>acc_negative</th>\n",
              "      <th>being_checked</th>\n",
              "      <th>isolated</th>\n",
              "    </tr>\n",
              "  </thead>\n",
              "  <tbody>\n",
              "    <tr>\n",
              "      <th>0</th>\n",
              "      <td>02-Mar-20</td>\n",
              "      <td>339</td>\n",
              "      <td>339</td>\n",
              "      <td>2</td>\n",
              "      <td>2</td>\n",
              "      <td>335</td>\n",
              "      <td>2</td>\n",
              "      <td>2</td>\n",
              "    </tr>\n",
              "    <tr>\n",
              "      <th>1</th>\n",
              "      <td>03-Mar-20</td>\n",
              "      <td>2</td>\n",
              "      <td>341</td>\n",
              "      <td>0</td>\n",
              "      <td>2</td>\n",
              "      <td>337</td>\n",
              "      <td>2</td>\n",
              "      <td>2</td>\n",
              "    </tr>\n",
              "    <tr>\n",
              "      <th>2</th>\n",
              "      <td>04-Mar-20</td>\n",
              "      <td>31</td>\n",
              "      <td>372</td>\n",
              "      <td>0</td>\n",
              "      <td>2</td>\n",
              "      <td>356</td>\n",
              "      <td>14</td>\n",
              "      <td>2</td>\n",
              "    </tr>\n",
              "    <tr>\n",
              "      <th>3</th>\n",
              "      <td>05-Mar-20</td>\n",
              "      <td>16</td>\n",
              "      <td>388</td>\n",
              "      <td>0</td>\n",
              "      <td>2</td>\n",
              "      <td>371</td>\n",
              "      <td>15</td>\n",
              "      <td>2</td>\n",
              "    </tr>\n",
              "    <tr>\n",
              "      <th>4</th>\n",
              "      <td>06-Mar-20</td>\n",
              "      <td>62</td>\n",
              "      <td>450</td>\n",
              "      <td>2</td>\n",
              "      <td>4</td>\n",
              "      <td>422</td>\n",
              "      <td>24</td>\n",
              "      <td>4</td>\n",
              "    </tr>\n",
              "  </tbody>\n",
              "</table>\n",
              "</div>"
            ],
            "text/plain": [
              "        date  new_tested  acc_tested  ...  acc_negative  being_checked  isolated\n",
              "0  02-Mar-20         339         339  ...           335              2         2\n",
              "1  03-Mar-20           2         341  ...           337              2         2\n",
              "2  04-Mar-20          31         372  ...           356             14         2\n",
              "3  05-Mar-20          16         388  ...           371             15         2\n",
              "4  06-Mar-20          62         450  ...           422             24         4\n",
              "\n",
              "[5 rows x 8 columns]"
            ]
          },
          "metadata": {},
          "execution_count": 244
        }
      ]
    },
    {
      "cell_type": "markdown",
      "metadata": {
        "id": "jgyGgavzK6Ct"
      },
      "source": [
        "Data Set 1\n",
        "\n",
        "new_tested: Number of new tested in this day\n",
        "acc_tested: Total number of tested samples\t\n",
        "new_confirmed: Number of new confirmed cases in this day\t\n",
        "acc_confirmed: total/accumulate of confirmed cases\t\n",
        "acc_negative: total/accumulate of negative cases\t\n",
        "being_checked: total/accumulate of sample under examination\t\n",
        "isolated: total/accumulate isolated patient"
      ]
    },
    {
      "cell_type": "markdown",
      "metadata": {
        "id": "Q3rsN-IQhmFb"
      },
      "source": [
        "**SOAL 1**\n",
        "\n",
        "Dengan menggunakan line plot, tampilkan perbandingan jumlah akumulatif tes sampel, \n",
        "terkonfirmasi positif dan terkonfirmasi negatif untuk periode waktu yang tersedia."
      ]
    },
    {
      "cell_type": "code",
      "metadata": {
        "colab": {
          "base_uri": "https://localhost:8080/"
        },
        "id": "BQRK9JJlhlMg",
        "outputId": "8ceee077-cad7-4df9-d02f-8071a23b67d9"
      },
      "source": [
        "df_1.columns"
      ],
      "execution_count": 245,
      "outputs": [
        {
          "output_type": "execute_result",
          "data": {
            "text/plain": [
              "Index(['date', 'new_tested', 'acc_tested', 'new_confirmed', 'acc_confirmed',\n",
              "       'acc_negative', 'being_checked', 'isolated'],\n",
              "      dtype='object')"
            ]
          },
          "metadata": {},
          "execution_count": 245
        }
      ]
    },
    {
      "cell_type": "code",
      "metadata": {
        "colab": {
          "base_uri": "https://localhost:8080/",
          "height": 621
        },
        "id": "smwVbw6EpxQ_",
        "outputId": "6a2cff2c-3f62-4cc9-8ebe-d454be6f8fab"
      },
      "source": [
        "line.plot(kind='area', stacked=False, alpha=0.55, figsize=(20, 10))\n",
        "\n",
        "plt.title('Perbandingan jumlah akumulatif tes sampe')\n",
        "plt.ylabel('Jumlah Terkonfimasi')\n",
        "plt.xlabel('Tanggal')\n",
        "\n",
        "plt.show()"
      ],
      "execution_count": 246,
      "outputs": [
        {
          "output_type": "display_data",
          "data": {
            "image/png": "[encoded data removed]",
            "text/plain": [
              "<Figure size 1440x720 with 1 Axes>"
            ]
          },
          "metadata": {
            "needs_background": "light"
          }
        }
      ]
    },
    {
      "cell_type": "markdown",
      "metadata": {
        "id": "mTnhk7l_7pLs"
      },
      "source": [
        "**SOAL 2**\n",
        "\n",
        "Hitunglah nilai positive rate dan negative rate untuk masing-masing waktu.\n",
        "![rumus-midterm-visdat.png](data:image/png;base64,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)\n",
        "\n",
        "• Dengan menggunakan bar plot, tampilkan perbandingan positivity rate dan \n",
        "negativity rate untuk periode waktu yang tersedia.\n",
        "\n",
        "• Pada tanggal berapa nilai positive rate menunjukkan nilai tertinggi?\n",
        "\n",
        "• Pada tanggal berapa nilai negative rate menunjukkan nilai tertinggi?"
      ]
    },
    {
      "cell_type": "code",
      "metadata": {
        "colab": {
          "base_uri": "https://localhost:8080/",
          "height": 234
        },
        "id": "QmW9RGO77921",
        "outputId": "76a6bda1-dec4-4914-d558-7024c2572c50"
      },
      "source": [
        "barplot = line\n",
        "barplot.sample(5)"
      ],
      "execution_count": 247,
      "outputs": [
        {
          "output_type": "execute_result",
          "data": {
            "text/html": [
              "<div>\n",
              "<style scoped>\n",
              "    .dataframe tbody tr th:only-of-type {\n",
              "        vertical-align: middle;\n",
              "    }\n",
              "\n",
              "    .dataframe tbody tr th {\n",
              "        vertical-align: top;\n",
              "    }\n",
              "\n",
              "    .dataframe thead th {\n",
              "        text-align: right;\n",
              "    }\n",
              "</style>\n",
              "<table border=\"1\" class=\"dataframe\">\n",
              "  <thead>\n",
              "    <tr style=\"text-align: right;\">\n",
              "      <th></th>\n",
              "      <th>acc_confirmed</th>\n",
              "      <th>acc_negative</th>\n",
              "    </tr>\n",
              "    <tr>\n",
              "      <th>date</th>\n",
              "      <th></th>\n",
              "      <th></th>\n",
              "    </tr>\n",
              "  </thead>\n",
              "  <tbody>\n",
              "    <tr>\n",
              "      <th>03-Mar-20</th>\n",
              "      <td>2</td>\n",
              "      <td>337</td>\n",
              "    </tr>\n",
              "    <tr>\n",
              "      <th>08-Mar-20</th>\n",
              "      <td>6</td>\n",
              "      <td>445</td>\n",
              "    </tr>\n",
              "    <tr>\n",
              "      <th>02-Mar-20</th>\n",
              "      <td>2</td>\n",
              "      <td>335</td>\n",
              "    </tr>\n",
              "    <tr>\n",
              "      <th>07-Mar-20</th>\n",
              "      <td>4</td>\n",
              "      <td>422</td>\n",
              "    </tr>\n",
              "    <tr>\n",
              "      <th>14-Mar-20</th>\n",
              "      <td>96</td>\n",
              "      <td>1109</td>\n",
              "    </tr>\n",
              "  </tbody>\n",
              "</table>\n",
              "</div>"
            ],
            "text/plain": [
              "           acc_confirmed  acc_negative\n",
              "date                                  \n",
              "03-Mar-20              2           337\n",
              "08-Mar-20              6           445\n",
              "02-Mar-20              2           335\n",
              "07-Mar-20              4           422\n",
              "14-Mar-20             96          1109"
            ]
          },
          "metadata": {},
          "execution_count": 247
        }
      ]
    },
    {
      "cell_type": "code",
      "metadata": {
        "colab": {
          "base_uri": "https://localhost:8080/",
          "height": 405
        },
        "id": "XnLJ7Xjb9Daj",
        "outputId": "1df78ab8-8d9b-499f-822c-9655b2df196f"
      },
      "source": [
        "barplot = df_1[['date','acc_tested','acc_confirmed','acc_negative']]\n",
        "barplot['Positive_Rate'] = (( df_1['acc_confirmed'] / df_1['acc_tested'] ) * 100)\n",
        "barplot['Negative_Rate'] = (( df_1['acc_negative'] / df_1['acc_tested'] ) * 100)\n",
        "barplot.sample(5)"
      ],
      "execution_count": 248,
      "outputs": [
        {
          "output_type": "stream",
          "name": "stderr",
          "text": [
            "/usr/local/lib/python3.7/dist-packages/ipykernel_launcher.py:2: SettingWithCopyWarning: \n",
            "A value is trying to be set on a copy of a slice from a DataFrame.\n",
            "Try using .loc[row_indexer,col_indexer] = value instead\n",
            "\n",
            "See the caveats in the documentation: https://pandas.pydata.org/pandas-docs/stable/user_guide/indexing.html#returning-a-view-versus-a-copy\n",
            "  \n",
            "/usr/local/lib/python3.7/dist-packages/ipykernel_launcher.py:3: SettingWithCopyWarning: \n",
            "A value is trying to be set on a copy of a slice from a DataFrame.\n",
            "Try using .loc[row_indexer,col_indexer] = value instead\n",
            "\n",
            "See the caveats in the documentation: https://pandas.pydata.org/pandas-docs/stable/user_guide/indexing.html#returning-a-view-versus-a-copy\n",
            "  This is separate from the ipykernel package so we can avoid doing imports until\n"
          ]
        },
        {
          "output_type": "execute_result",
          "data": {
            "text/html": [
              "<div>\n",
              "<style scoped>\n",
              "    .dataframe tbody tr th:only-of-type {\n",
              "        vertical-align: middle;\n",
              "    }\n",
              "\n",
              "    .dataframe tbody tr th {\n",
              "        vertical-align: top;\n",
              "    }\n",
              "\n",
              "    .dataframe thead th {\n",
              "        text-align: right;\n",
              "    }\n",
              "</style>\n",
              "<table border=\"1\" class=\"dataframe\">\n",
              "  <thead>\n",
              "    <tr style=\"text-align: right;\">\n",
              "      <th></th>\n",
              "      <th>date</th>\n",
              "      <th>acc_tested</th>\n",
              "      <th>acc_confirmed</th>\n",
              "      <th>acc_negative</th>\n",
              "      <th>Positive_Rate</th>\n",
              "      <th>Negative_Rate</th>\n",
              "    </tr>\n",
              "  </thead>\n",
              "  <tbody>\n",
              "    <tr>\n",
              "      <th>4</th>\n",
              "      <td>06-Mar-20</td>\n",
              "      <td>450</td>\n",
              "      <td>4</td>\n",
              "      <td>422</td>\n",
              "      <td>0.888889</td>\n",
              "      <td>93.777778</td>\n",
              "    </tr>\n",
              "    <tr>\n",
              "      <th>12</th>\n",
              "      <td>14-Mar-20</td>\n",
              "      <td>1205</td>\n",
              "      <td>96</td>\n",
              "      <td>1109</td>\n",
              "      <td>7.966805</td>\n",
              "      <td>92.033195</td>\n",
              "    </tr>\n",
              "    <tr>\n",
              "      <th>23</th>\n",
              "      <td>25-Mar-20</td>\n",
              "      <td>3822</td>\n",
              "      <td>790</td>\n",
              "      <td>3032</td>\n",
              "      <td>20.669806</td>\n",
              "      <td>79.330194</td>\n",
              "    </tr>\n",
              "    <tr>\n",
              "      <th>28</th>\n",
              "      <td>30-Mar-20</td>\n",
              "      <td>6663</td>\n",
              "      <td>1414</td>\n",
              "      <td>5249</td>\n",
              "      <td>21.221672</td>\n",
              "      <td>78.778328</td>\n",
              "    </tr>\n",
              "    <tr>\n",
              "      <th>16</th>\n",
              "      <td>18-Mar-20</td>\n",
              "      <td>1592</td>\n",
              "      <td>227</td>\n",
              "      <td>1342</td>\n",
              "      <td>14.258794</td>\n",
              "      <td>84.296482</td>\n",
              "    </tr>\n",
              "  </tbody>\n",
              "</table>\n",
              "</div>"
            ],
            "text/plain": [
              "         date  acc_tested  ...  Positive_Rate  Negative_Rate\n",
              "4   06-Mar-20         450  ...       0.888889      93.777778\n",
              "12  14-Mar-20        1205  ...       7.966805      92.033195\n",
              "23  25-Mar-20        3822  ...      20.669806      79.330194\n",
              "28  30-Mar-20        6663  ...      21.221672      78.778328\n",
              "16  18-Mar-20        1592  ...      14.258794      84.296482\n",
              "\n",
              "[5 rows x 6 columns]"
            ]
          },
          "metadata": {},
          "execution_count": 248
        }
      ]
    },
    {
      "cell_type": "code",
      "metadata": {
        "id": "n2DTZRHlHiLl"
      },
      "source": [
        "barplot = barplot.set_index('date')"
      ],
      "execution_count": 249,
      "outputs": []
    },
    {
      "cell_type": "code",
      "metadata": {
        "colab": {
          "base_uri": "https://localhost:8080/",
          "height": 662
        },
        "id": "JWahjP8EGqGk",
        "outputId": "35c97d4d-870a-4a74-878a-5d91dbbda17b"
      },
      "source": [
        "barplot[['Positive_Rate','Negative_Rate']].plot(kind='bar', figsize=(15, 10))\n",
        "\n",
        "plt.xlabel('Tanggal') # add to x-label to the plot\n",
        "plt.ylabel('Persen') # add y-label to the plot\n",
        "plt.title('Perbandingan') # add title to the plot\n",
        "\n",
        "plt.show()"
      ],
      "execution_count": 250,
      "outputs": [
        {
          "output_type": "display_data",
          "data": {
            "image/png": "[encoded data removed]",
            "text/plain": [
              "<Figure size 1080x720 with 1 Axes>"
            ]
          },
          "metadata": {
            "needs_background": "light"
          }
        }
      ]
    },
    {
      "cell_type": "code",
      "metadata": {
        "colab": {
          "base_uri": "https://localhost:8080/"
        },
        "id": "9e1F6KS3CEHx",
        "outputId": "259293a7-6cd8-459c-aa80-c73c6c73952f"
      },
      "source": [
        "PR = barplot['Positive_Rate'] == barplot['Positive_Rate'].max()\n",
        "NR = barplot['Negative_Rate'] == barplot['Negative_Rate'].max()\n",
        "print(barplot[PR]['Positive_Rate'])\n",
        "print(barplot[NR]['Negative_Rate'])"
      ],
      "execution_count": 251,
      "outputs": [
        {
          "output_type": "stream",
          "name": "stdout",
          "text": [
            "date\n",
            "31-Mar-20    22.54685\n",
            "Name: Positive_Rate, dtype: float64\n",
            "date\n",
            "03-Mar-20    98.826979\n",
            "Name: Negative_Rate, dtype: float64\n"
          ]
        }
      ]
    },
    {
      "cell_type": "markdown",
      "metadata": {
        "id": "d9va8-f5YNWZ"
      },
      "source": [
        "Persentase Tertinggi positive rate jatuh pada tanggal 31-Mar-20\n",
        "\n",
        "Sedangkan untuk negative rate jatuh pada tanggap 03-Mar-20"
      ]
    },
    {
      "cell_type": "markdown",
      "metadata": {
        "id": "04cTV0_FHuja"
      },
      "source": [
        "**SOAL 3**\n",
        "\n",
        "• Dengan menggunakan heatmap, tunjukkan korelasi antar variabel yang ada pada \n",
        "dataset.\n",
        "\n",
        "• Tentukan variabel-variabel yang memiliki nilai korelasi paling positif, dan berikan penjelasan terkait nilai korelasi tersebut.\n",
        "\n",
        "• Tentukan variabel-variabel yang memiliki nilai korelasi paling negatif, dan berikan penjelasan terkait nilai korelasi tersebut"
      ]
    },
    {
      "cell_type": "code",
      "metadata": {
        "colab": {
          "base_uri": "https://localhost:8080/",
          "height": 234
        },
        "id": "YcNlDLJ-JEGE",
        "outputId": "b66a6499-dc91-4eaa-e7a3-57c5dbba02f1"
      },
      "source": [
        "heatmap = df_1\n",
        "heatmap = heatmap.set_index('date')\n",
        "heatmap.sample(5)"
      ],
      "execution_count": 252,
      "outputs": [
        {
          "output_type": "execute_result",
          "data": {
            "text/html": [
              "<div>\n",
              "<style scoped>\n",
              "    .dataframe tbody tr th:only-of-type {\n",
              "        vertical-align: middle;\n",
              "    }\n",
              "\n",
              "    .dataframe tbody tr th {\n",
              "        vertical-align: top;\n",
              "    }\n",
              "\n",
              "    .dataframe thead th {\n",
              "        text-align: right;\n",
              "    }\n",
              "</style>\n",
              "<table border=\"1\" class=\"dataframe\">\n",
              "  <thead>\n",
              "    <tr style=\"text-align: right;\">\n",
              "      <th></th>\n",
              "      <th>new_tested</th>\n",
              "      <th>acc_tested</th>\n",
              "      <th>new_confirmed</th>\n",
              "      <th>acc_confirmed</th>\n",
              "      <th>acc_negative</th>\n",
              "      <th>being_checked</th>\n",
              "      <th>isolated</th>\n",
              "    </tr>\n",
              "    <tr>\n",
              "      <th>date</th>\n",
              "      <th></th>\n",
              "      <th></th>\n",
              "      <th></th>\n",
              "      <th></th>\n",
              "      <th></th>\n",
              "      <th></th>\n",
              "      <th></th>\n",
              "    </tr>\n",
              "  </thead>\n",
              "  <tbody>\n",
              "    <tr>\n",
              "      <th>31-Mar-20</th>\n",
              "      <td>114</td>\n",
              "      <td>6777</td>\n",
              "      <td>114</td>\n",
              "      <td>1528</td>\n",
              "      <td>5249</td>\n",
              "      <td>0</td>\n",
              "      <td>1311</td>\n",
              "    </tr>\n",
              "    <tr>\n",
              "      <th>18-Mar-20</th>\n",
              "      <td>220</td>\n",
              "      <td>1592</td>\n",
              "      <td>55</td>\n",
              "      <td>227</td>\n",
              "      <td>1342</td>\n",
              "      <td>23</td>\n",
              "      <td>197</td>\n",
              "    </tr>\n",
              "    <tr>\n",
              "      <th>27-Mar-20</th>\n",
              "      <td>1439</td>\n",
              "      <td>5775</td>\n",
              "      <td>153</td>\n",
              "      <td>1046</td>\n",
              "      <td>4729</td>\n",
              "      <td>0</td>\n",
              "      <td>913</td>\n",
              "    </tr>\n",
              "    <tr>\n",
              "      <th>22-Mar-20</th>\n",
              "      <td>73</td>\n",
              "      <td>2438</td>\n",
              "      <td>64</td>\n",
              "      <td>514</td>\n",
              "      <td>1904</td>\n",
              "      <td>20</td>\n",
              "      <td>437</td>\n",
              "    </tr>\n",
              "    <tr>\n",
              "      <th>09-Mar-20</th>\n",
              "      <td>60</td>\n",
              "      <td>543</td>\n",
              "      <td>13</td>\n",
              "      <td>19</td>\n",
              "      <td>487</td>\n",
              "      <td>37</td>\n",
              "      <td>19</td>\n",
              "    </tr>\n",
              "  </tbody>\n",
              "</table>\n",
              "</div>"
            ],
            "text/plain": [
              "           new_tested  acc_tested  ...  being_checked  isolated\n",
              "date                               ...                         \n",
              "31-Mar-20         114        6777  ...              0      1311\n",
              "18-Mar-20         220        1592  ...             23       197\n",
              "27-Mar-20        1439        5775  ...              0       913\n",
              "22-Mar-20          73        2438  ...             20       437\n",
              "09-Mar-20          60         543  ...             37        19\n",
              "\n",
              "[5 rows x 7 columns]"
            ]
          },
          "metadata": {},
          "execution_count": 252
        }
      ]
    },
    {
      "cell_type": "code",
      "metadata": {
        "colab": {
          "base_uri": "https://localhost:8080/",
          "height": 374
        },
        "id": "DOHhgQDoHzkL",
        "outputId": "a8afd62a-8da0-4471-9733-591a5c55e6e5"
      },
      "source": [
        "plt.figure()\n",
        "plt.suptitle(\"korelasi antar variabel\", color='m')\n",
        "\n",
        "ax = sns.heatmap(heatmap.corr(), annot=True)\n",
        "ax.set(xlabel='x label', ylabel='y label')\n",
        "\n",
        "plt.show()"
      ],
      "execution_count": 253,
      "outputs": [
        {
          "output_type": "display_data",
          "data": {
            "image/png": "[encoded data removed]",
            "text/plain": [
              "<Figure size 432x288 with 2 Axes>"
            ]
          },
          "metadata": {
            "needs_background": "light"
          }
        }
      ]
    },
    {
      "cell_type": "code",
      "metadata": {
        "colab": {
          "base_uri": "https://localhost:8080/",
          "height": 265
        },
        "id": "16ZiSWX5JH8h",
        "outputId": "4b81270d-7945-44e5-e6e6-2deb15d0463a"
      },
      "source": [
        "heatmap.corr()"
      ],
      "execution_count": 254,
      "outputs": [
        {
          "output_type": "execute_result",
          "data": {
            "text/html": [
              "<div>\n",
              "<style scoped>\n",
              "    .dataframe tbody tr th:only-of-type {\n",
              "        vertical-align: middle;\n",
              "    }\n",
              "\n",
              "    .dataframe tbody tr th {\n",
              "        vertical-align: top;\n",
              "    }\n",
              "\n",
              "    .dataframe thead th {\n",
              "        text-align: right;\n",
              "    }\n",
              "</style>\n",
              "<table border=\"1\" class=\"dataframe\">\n",
              "  <thead>\n",
              "    <tr style=\"text-align: right;\">\n",
              "      <th></th>\n",
              "      <th>new_tested</th>\n",
              "      <th>acc_tested</th>\n",
              "      <th>new_confirmed</th>\n",
              "      <th>acc_confirmed</th>\n",
              "      <th>acc_negative</th>\n",
              "      <th>being_checked</th>\n",
              "      <th>isolated</th>\n",
              "    </tr>\n",
              "  </thead>\n",
              "  <tbody>\n",
              "    <tr>\n",
              "      <th>new_tested</th>\n",
              "      <td>1.000000</td>\n",
              "      <td>0.529012</td>\n",
              "      <td>0.681682</td>\n",
              "      <td>0.488240</td>\n",
              "      <td>0.541540</td>\n",
              "      <td>-0.402717</td>\n",
              "      <td>0.494872</td>\n",
              "    </tr>\n",
              "    <tr>\n",
              "      <th>acc_tested</th>\n",
              "      <td>0.529012</td>\n",
              "      <td>1.000000</td>\n",
              "      <td>0.927075</td>\n",
              "      <td>0.992487</td>\n",
              "      <td>0.999088</td>\n",
              "      <td>-0.611367</td>\n",
              "      <td>0.992602</td>\n",
              "    </tr>\n",
              "    <tr>\n",
              "      <th>new_confirmed</th>\n",
              "      <td>0.681682</td>\n",
              "      <td>0.927075</td>\n",
              "      <td>1.000000</td>\n",
              "      <td>0.925703</td>\n",
              "      <td>0.929067</td>\n",
              "      <td>-0.504804</td>\n",
              "      <td>0.928491</td>\n",
              "    </tr>\n",
              "    <tr>\n",
              "      <th>acc_confirmed</th>\n",
              "      <td>0.488240</td>\n",
              "      <td>0.992487</td>\n",
              "      <td>0.925703</td>\n",
              "      <td>1.000000</td>\n",
              "      <td>0.987653</td>\n",
              "      <td>-0.599737</td>\n",
              "      <td>0.999920</td>\n",
              "    </tr>\n",
              "    <tr>\n",
              "      <th>acc_negative</th>\n",
              "      <td>0.541540</td>\n",
              "      <td>0.999088</td>\n",
              "      <td>0.929067</td>\n",
              "      <td>0.987653</td>\n",
              "      <td>1.000000</td>\n",
              "      <td>-0.613971</td>\n",
              "      <td>0.987858</td>\n",
              "    </tr>\n",
              "    <tr>\n",
              "      <th>being_checked</th>\n",
              "      <td>-0.402717</td>\n",
              "      <td>-0.611367</td>\n",
              "      <td>-0.504804</td>\n",
              "      <td>-0.599737</td>\n",
              "      <td>-0.613971</td>\n",
              "      <td>1.000000</td>\n",
              "      <td>-0.600341</td>\n",
              "    </tr>\n",
              "    <tr>\n",
              "      <th>isolated</th>\n",
              "      <td>0.494872</td>\n",
              "      <td>0.992602</td>\n",
              "      <td>0.928491</td>\n",
              "      <td>0.999920</td>\n",
              "      <td>0.987858</td>\n",
              "      <td>-0.600341</td>\n",
              "      <td>1.000000</td>\n",
              "    </tr>\n",
              "  </tbody>\n",
              "</table>\n",
              "</div>"
            ],
            "text/plain": [
              "               new_tested  acc_tested  ...  being_checked  isolated\n",
              "new_tested       1.000000    0.529012  ...      -0.402717  0.494872\n",
              "acc_tested       0.529012    1.000000  ...      -0.611367  0.992602\n",
              "new_confirmed    0.681682    0.927075  ...      -0.504804  0.928491\n",
              "acc_confirmed    0.488240    0.992487  ...      -0.599737  0.999920\n",
              "acc_negative     0.541540    0.999088  ...      -0.613971  0.987858\n",
              "being_checked   -0.402717   -0.611367  ...       1.000000 -0.600341\n",
              "isolated         0.494872    0.992602  ...      -0.600341  1.000000\n",
              "\n",
              "[7 rows x 7 columns]"
            ]
          },
          "metadata": {},
          "execution_count": 254
        }
      ]
    },
    {
      "cell_type": "code",
      "metadata": {
        "colab": {
          "base_uri": "https://localhost:8080/"
        },
        "id": "2sms8MAHSdrr",
        "outputId": "69059e85-76ba-4b8b-9cd9-259472d77d0f"
      },
      "source": [
        "df_heatmap = heatmap.corr()\n",
        "df_heatmap = df_heatmap.replace([1.000000],0)\n",
        "print(df_heatmap.idxmax())\n",
        "print(df_heatmap.max())"
      ],
      "execution_count": 255,
      "outputs": [
        {
          "output_type": "stream",
          "name": "stdout",
          "text": [
            "new_tested       new_confirmed\n",
            "acc_tested        acc_negative\n",
            "new_confirmed     acc_negative\n",
            "acc_confirmed         isolated\n",
            "acc_negative        acc_tested\n",
            "being_checked    being_checked\n",
            "isolated         acc_confirmed\n",
            "dtype: object\n",
            "new_tested       0.681682\n",
            "acc_tested       0.999088\n",
            "new_confirmed    0.929067\n",
            "acc_confirmed    0.999920\n",
            "acc_negative     0.999088\n",
            "being_checked    0.000000\n",
            "isolated         0.999920\n",
            "dtype: float64\n"
          ]
        }
      ]
    },
    {
      "cell_type": "markdown",
      "metadata": {
        "id": "vgL35zXHZIb3"
      },
      "source": [
        "Tampilan diatas merupakan nilai variable yang tiap data memiliki korelasi yang tinggi terhadap data lainnya, dalam contoh kasusnya bisa dilihat pada data **isolated** dengan **acc_confirmed** yang memiliki nilai hampir mendekati **1**"
      ]
    },
    {
      "cell_type": "code",
      "metadata": {
        "colab": {
          "base_uri": "https://localhost:8080/"
        },
        "id": "ZozGJ43VYszh",
        "outputId": "ea9bcb88-aef4-4e46-e0ef-c65ca6834af8"
      },
      "source": [
        "print(df_heatmap.idxmin())\n",
        "print(df_heatmap.min())"
      ],
      "execution_count": 256,
      "outputs": [
        {
          "output_type": "stream",
          "name": "stdout",
          "text": [
            "new_tested       being_checked\n",
            "acc_tested       being_checked\n",
            "new_confirmed    being_checked\n",
            "acc_confirmed    being_checked\n",
            "acc_negative     being_checked\n",
            "being_checked     acc_negative\n",
            "isolated         being_checked\n",
            "dtype: object\n",
            "new_tested      -0.402717\n",
            "acc_tested      -0.611367\n",
            "new_confirmed   -0.504804\n",
            "acc_confirmed   -0.599737\n",
            "acc_negative    -0.613971\n",
            "being_checked   -0.613971\n",
            "isolated        -0.600341\n",
            "dtype: float64\n"
          ]
        }
      ]
    },
    {
      "cell_type": "markdown",
      "metadata": {
        "id": "dhJiAfyGaNth"
      },
      "source": [
        "Tampilan diatas merupakan nilai variable yang tiap data memiliki korelasi yang rendah terhadap data lainnya. yang artinya tiap data tersebut tidak ada hubungan dengan data lainnya. bisa dilihat kalau paling rendah memiliki nilai **negatif**"
      ]
    },
    {
      "cell_type": "markdown",
      "metadata": {
        "id": "vUKARNHjK1z0"
      },
      "source": [
        "**SOAL 4**\n",
        "\n",
        "• Hitunglah nilai persentase perbandingan jumlah terkonfirmasi positif terhadap \n",
        "populasi per km2 untuk masing-masing provinsi.\n",
        "\n",
        "• Dengan menggunakan bar plot, tampilkan perbandingan nilai persentase tersebut \n",
        "untuk masing-masing provinsi.\n",
        "\n",
        "• Tampilkan 3 provinsi dengan nilai persentasi terbesar beserta nilai persentasenya"
      ]
    },
    {
      "cell_type": "code",
      "metadata": {
        "colab": {
          "base_uri": "https://localhost:8080/",
          "height": 203
        },
        "id": "K2q6wyvBeTrz",
        "outputId": "e498138f-b6fc-439c-b91b-1f9f084db4e3"
      },
      "source": [
        "df_2 = pd.read_csv(\"https://raw.githubusercontent.com/manusia-kesekian/Visdat_MidProject/master/Data%20Set/Data%20Set%202.csv?token=AONK7GRIVOE2Y5N4KRQPR63BRNS62\")\n",
        "df_2.head()"
      ],
      "execution_count": 257,
      "outputs": [
        {
          "output_type": "execute_result",
          "data": {
            "text/html": [
              "<div>\n",
              "<style scoped>\n",
              "    .dataframe tbody tr th:only-of-type {\n",
              "        vertical-align: middle;\n",
              "    }\n",
              "\n",
              "    .dataframe tbody tr th {\n",
              "        vertical-align: top;\n",
              "    }\n",
              "\n",
              "    .dataframe thead th {\n",
              "        text-align: right;\n",
              "    }\n",
              "</style>\n",
              "<table border=\"1\" class=\"dataframe\">\n",
              "  <thead>\n",
              "    <tr style=\"text-align: right;\">\n",
              "      <th></th>\n",
              "      <th>province_id</th>\n",
              "      <th>province_name</th>\n",
              "      <th>island</th>\n",
              "      <th>iso_code</th>\n",
              "      <th>capital_city</th>\n",
              "      <th>population</th>\n",
              "      <th>population_kmsquare</th>\n",
              "      <th>confirmed</th>\n",
              "      <th>deceased</th>\n",
              "      <th>released</th>\n",
              "      <th>longitude</th>\n",
              "      <th>latitude</th>\n",
              "    </tr>\n",
              "  </thead>\n",
              "  <tbody>\n",
              "    <tr>\n",
              "      <th>0</th>\n",
              "      <td>1</td>\n",
              "      <td>Aceh</td>\n",
              "      <td>Sumatra</td>\n",
              "      <td>AC</td>\n",
              "      <td>Banda Aceh</td>\n",
              "      <td>4906835</td>\n",
              "      <td>86</td>\n",
              "      <td>4</td>\n",
              "      <td>0</td>\n",
              "      <td>0</td>\n",
              "      <td>9.672.895</td>\n",
              "      <td>3.869.994</td>\n",
              "    </tr>\n",
              "    <tr>\n",
              "      <th>1</th>\n",
              "      <td>2</td>\n",
              "      <td>Bali</td>\n",
              "      <td>Kepulauan Nusa Tenggara</td>\n",
              "      <td>BA</td>\n",
              "      <td>Denpasar</td>\n",
              "      <td>4104900</td>\n",
              "      <td>738</td>\n",
              "      <td>9</td>\n",
              "      <td>2</td>\n",
              "      <td>0</td>\n",
              "      <td>11.512.255</td>\n",
              "      <td>-825.731</td>\n",
              "    </tr>\n",
              "    <tr>\n",
              "      <th>2</th>\n",
              "      <td>3</td>\n",
              "      <td>Banten</td>\n",
              "      <td>Jawa</td>\n",
              "      <td>BT</td>\n",
              "      <td>Serang</td>\n",
              "      <td>11704877</td>\n",
              "      <td>1298</td>\n",
              "      <td>84</td>\n",
              "      <td>4</td>\n",
              "      <td>1</td>\n",
              "      <td>106.160.889</td>\n",
              "      <td>-6.315.299</td>\n",
              "    </tr>\n",
              "    <tr>\n",
              "      <th>3</th>\n",
              "      <td>4</td>\n",
              "      <td>Bengkulu</td>\n",
              "      <td>Sumatra</td>\n",
              "      <td>BE</td>\n",
              "      <td>Bengkulu</td>\n",
              "      <td>1844800</td>\n",
              "      <td>93</td>\n",
              "      <td>0</td>\n",
              "      <td>0</td>\n",
              "      <td>0</td>\n",
              "      <td>102.315.674</td>\n",
              "      <td>-3.414.725</td>\n",
              "    </tr>\n",
              "    <tr>\n",
              "      <th>4</th>\n",
              "      <td>5</td>\n",
              "      <td>DI Yogyakarta</td>\n",
              "      <td>Jawa</td>\n",
              "      <td>YO</td>\n",
              "      <td>Yogyakarta</td>\n",
              "      <td>3553100</td>\n",
              "      <td>1134</td>\n",
              "      <td>22</td>\n",
              "      <td>2</td>\n",
              "      <td>1</td>\n",
              "      <td>110.390.625</td>\n",
              "      <td>-7.863.382</td>\n",
              "    </tr>\n",
              "  </tbody>\n",
              "</table>\n",
              "</div>"
            ],
            "text/plain": [
              "   province_id  province_name  ...    longitude    latitude\n",
              "0            1           Aceh  ...    9.672.895   3.869.994\n",
              "1            2           Bali  ...   11.512.255    -825.731\n",
              "2            3         Banten  ...  106.160.889  -6.315.299\n",
              "3            4       Bengkulu  ...  102.315.674  -3.414.725\n",
              "4            5  DI Yogyakarta  ...  110.390.625  -7.863.382\n",
              "\n",
              "[5 rows x 12 columns]"
            ]
          },
          "metadata": {},
          "execution_count": 257
        }
      ]
    },
    {
      "cell_type": "markdown",
      "metadata": {
        "id": "G-5vlAyYK8Tr"
      },
      "source": [
        "Data Set 2\n",
        "\n",
        "Data set ini menyajikan data spasial terkait kasus COVID-19 di masing-masing provinsi di Indonesia. Data yang disajikan di antaranya jumlah populasi, jumlah kasus positif, dan lain-lain.\n",
        "\n",
        "provinsi_id: id provinsi berdasarkan abjad\n",
        "\n",
        "nama_provinsi: nama provinsi dalam bahasa indonesia\n",
        "\n",
        "pulau: pulau terletak\n",
        "\n",
        "iso_code: kode ISO provinsi\n",
        "\n",
        "capital_city: nama ibu kota\n",
        "\n",
        "penduduk: jumlah perkiraan penduduk berdasarkan sensus 2014\n",
        "\n",
        "population_kmsquare: jumlah populasi per kilo meter persegi\n",
        "\n",
        "dikonfirmasi: jumlah kasus yang dikonfirmasi\n",
        "\n",
        "meninggal: jumlah kasus meninggal\n",
        "\n",
        "dibebaskan: jumlah kasus yang dibebaskan\n"
      ]
    },
    {
      "cell_type": "code",
      "metadata": {
        "id": "yJjLPHeiMiuZ",
        "colab": {
          "base_uri": "https://localhost:8080/",
          "height": 203
        },
        "outputId": "82d16f72-7f5a-443a-eb50-6cee73613b17"
      },
      "source": [
        "df_2['perbandingan'] = df_2['confirmed']/df_2['population_kmsquare']*100\n",
        "df_2.sample(5)"
      ],
      "execution_count": 258,
      "outputs": [
        {
          "output_type": "execute_result",
          "data": {
            "text/html": [
              "<div>\n",
              "<style scoped>\n",
              "    .dataframe tbody tr th:only-of-type {\n",
              "        vertical-align: middle;\n",
              "    }\n",
              "\n",
              "    .dataframe tbody tr th {\n",
              "        vertical-align: top;\n",
              "    }\n",
              "\n",
              "    .dataframe thead th {\n",
              "        text-align: right;\n",
              "    }\n",
              "</style>\n",
              "<table border=\"1\" class=\"dataframe\">\n",
              "  <thead>\n",
              "    <tr style=\"text-align: right;\">\n",
              "      <th></th>\n",
              "      <th>province_id</th>\n",
              "      <th>province_name</th>\n",
              "      <th>island</th>\n",
              "      <th>iso_code</th>\n",
              "      <th>capital_city</th>\n",
              "      <th>population</th>\n",
              "      <th>population_kmsquare</th>\n",
              "      <th>confirmed</th>\n",
              "      <th>deceased</th>\n",
              "      <th>released</th>\n",
              "      <th>longitude</th>\n",
              "      <th>latitude</th>\n",
              "      <th>perbandingan</th>\n",
              "    </tr>\n",
              "  </thead>\n",
              "  <tbody>\n",
              "    <tr>\n",
              "      <th>21</th>\n",
              "      <td>22</td>\n",
              "      <td>Nusa Tenggara Barat</td>\n",
              "      <td>Kepulauan Nusa Tenggara</td>\n",
              "      <td>NB</td>\n",
              "      <td>Mataram</td>\n",
              "      <td>4773795</td>\n",
              "      <td>239</td>\n",
              "      <td>2</td>\n",
              "      <td>0</td>\n",
              "      <td>0</td>\n",
              "      <td>116.444.092</td>\n",
              "      <td>-8.635.334</td>\n",
              "      <td>0.836820</td>\n",
              "    </tr>\n",
              "    <tr>\n",
              "      <th>5</th>\n",
              "      <td>6</td>\n",
              "      <td>DKI Jakarta</td>\n",
              "      <td>Jawa</td>\n",
              "      <td>JK</td>\n",
              "      <td>Jakarta</td>\n",
              "      <td>10012271</td>\n",
              "      <td>1353</td>\n",
              "      <td>598</td>\n",
              "      <td>51</td>\n",
              "      <td>31</td>\n",
              "      <td>106.853.027</td>\n",
              "      <td>-6.162.401</td>\n",
              "      <td>44.198078</td>\n",
              "    </tr>\n",
              "    <tr>\n",
              "      <th>17</th>\n",
              "      <td>18</td>\n",
              "      <td>Kepulauan Riau</td>\n",
              "      <td>Sumatra</td>\n",
              "      <td>KR</td>\n",
              "      <td>Tanjungpinang</td>\n",
              "      <td>1917415</td>\n",
              "      <td>237</td>\n",
              "      <td>5</td>\n",
              "      <td>1</td>\n",
              "      <td>0</td>\n",
              "      <td>104.468.994</td>\n",
              "      <td>0.999705</td>\n",
              "      <td>2.109705</td>\n",
              "    </tr>\n",
              "    <tr>\n",
              "      <th>33</th>\n",
              "      <td>34</td>\n",
              "      <td>Sumatra Utara</td>\n",
              "      <td>Sumatra</td>\n",
              "      <td>SU</td>\n",
              "      <td>Medan</td>\n",
              "      <td>13766851</td>\n",
              "      <td>189</td>\n",
              "      <td>8</td>\n",
              "      <td>1</td>\n",
              "      <td>0</td>\n",
              "      <td>98.712.158</td>\n",
              "      <td>323.924</td>\n",
              "      <td>4.232804</td>\n",
              "    </tr>\n",
              "    <tr>\n",
              "      <th>7</th>\n",
              "      <td>8</td>\n",
              "      <td>Jambi</td>\n",
              "      <td>Sumatra</td>\n",
              "      <td>JA</td>\n",
              "      <td>Jambi</td>\n",
              "      <td>3344400</td>\n",
              "      <td>63</td>\n",
              "      <td>1</td>\n",
              "      <td>0</td>\n",
              "      <td>0</td>\n",
              "      <td>103.623.047</td>\n",
              "      <td>-1.625.758</td>\n",
              "      <td>1.587302</td>\n",
              "    </tr>\n",
              "  </tbody>\n",
              "</table>\n",
              "</div>"
            ],
            "text/plain": [
              "    province_id        province_name  ...    latitude perbandingan\n",
              "21           22  Nusa Tenggara Barat  ...  -8.635.334     0.836820\n",
              "5             6          DKI Jakarta  ...  -6.162.401    44.198078\n",
              "17           18       Kepulauan Riau  ...    0.999705     2.109705\n",
              "33           34        Sumatra Utara  ...     323.924     4.232804\n",
              "7             8                Jambi  ...  -1.625.758     1.587302\n",
              "\n",
              "[5 rows x 13 columns]"
            ]
          },
          "metadata": {},
          "execution_count": 258
        }
      ]
    },
    {
      "cell_type": "code",
      "metadata": {
        "colab": {
          "base_uri": "https://localhost:8080/",
          "height": 234
        },
        "id": "usWrYRWFeXN0",
        "outputId": "6bb5d974-34c4-4b1b-be4e-038d8a0adf39"
      },
      "source": [
        "barplot_provinsi =  df_2[['province_name','perbandingan']]\n",
        "barplot_provinsi = barplot_provinsi.set_index('province_name')\n",
        "barplot_provinsi.sample(5)"
      ],
      "execution_count": 259,
      "outputs": [
        {
          "output_type": "execute_result",
          "data": {
            "text/html": [
              "<div>\n",
              "<style scoped>\n",
              "    .dataframe tbody tr th:only-of-type {\n",
              "        vertical-align: middle;\n",
              "    }\n",
              "\n",
              "    .dataframe tbody tr th {\n",
              "        vertical-align: top;\n",
              "    }\n",
              "\n",
              "    .dataframe thead th {\n",
              "        text-align: right;\n",
              "    }\n",
              "</style>\n",
              "<table border=\"1\" class=\"dataframe\">\n",
              "  <thead>\n",
              "    <tr style=\"text-align: right;\">\n",
              "      <th></th>\n",
              "      <th>perbandingan</th>\n",
              "    </tr>\n",
              "    <tr>\n",
              "      <th>province_name</th>\n",
              "      <th></th>\n",
              "    </tr>\n",
              "  </thead>\n",
              "  <tbody>\n",
              "    <tr>\n",
              "      <th>DKI Jakarta</th>\n",
              "      <td>44.198078</td>\n",
              "    </tr>\n",
              "    <tr>\n",
              "      <th>Nusa Tenggara Barat</th>\n",
              "      <td>0.836820</td>\n",
              "    </tr>\n",
              "    <tr>\n",
              "      <th>Kepulauan Bangka Belitung</th>\n",
              "      <td>0.000000</td>\n",
              "    </tr>\n",
              "    <tr>\n",
              "      <th>DI Yogyakarta</th>\n",
              "      <td>1.940035</td>\n",
              "    </tr>\n",
              "    <tr>\n",
              "      <th>Sulawesi Barat</th>\n",
              "      <td>0.000000</td>\n",
              "    </tr>\n",
              "  </tbody>\n",
              "</table>\n",
              "</div>"
            ],
            "text/plain": [
              "                           perbandingan\n",
              "province_name                          \n",
              "DKI Jakarta                   44.198078\n",
              "Nusa Tenggara Barat            0.836820\n",
              "Kepulauan Bangka Belitung      0.000000\n",
              "DI Yogyakarta                  1.940035\n",
              "Sulawesi Barat                 0.000000"
            ]
          },
          "metadata": {},
          "execution_count": 259
        }
      ]
    },
    {
      "cell_type": "code",
      "metadata": {
        "colab": {
          "base_uri": "https://localhost:8080/",
          "height": 750
        },
        "id": "kdxTdpLNeI-M",
        "outputId": "546a6818-245a-44cc-ea44-75bb6780cd1d"
      },
      "source": [
        "barplot_provinsi.plot(kind='bar', figsize=(15, 10))\n",
        "\n",
        "plt.xlabel('Provinsi') # add to x-label to the plot\n",
        "plt.ylabel('Persen') # add y-label to the plot\n",
        "plt.title('Perbandingan jumlah terkonfirmasi positif terhadap populasi per km2') # add title to the plot\n",
        "\n",
        "plt.show()"
      ],
      "execution_count": 260,
      "outputs": [
        {
          "output_type": "display_data",
          "data": {
            "image/png": "[encoded data removed]",
            "text/plain": [
              "<Figure size 1080x720 with 1 Axes>"
            ]
          },
          "metadata": {
            "needs_background": "light"
          }
        }
      ]
    },
    {
      "cell_type": "code",
      "metadata": {
        "colab": {
          "base_uri": "https://localhost:8080/",
          "height": 172
        },
        "id": "EGZtiYE9fehw",
        "outputId": "375b8781-0cf3-4099-e26b-b67b45aea49c"
      },
      "source": [
        "barplot_provinsi.sort_values(['perbandingan'], ascending=False, inplace=True)\n",
        "barplot_provinsi.head(3)"
      ],
      "execution_count": 261,
      "outputs": [
        {
          "output_type": "execute_result",
          "data": {
            "text/html": [
              "<div>\n",
              "<style scoped>\n",
              "    .dataframe tbody tr th:only-of-type {\n",
              "        vertical-align: middle;\n",
              "    }\n",
              "\n",
              "    .dataframe tbody tr th {\n",
              "        vertical-align: top;\n",
              "    }\n",
              "\n",
              "    .dataframe thead th {\n",
              "        text-align: right;\n",
              "    }\n",
              "</style>\n",
              "<table border=\"1\" class=\"dataframe\">\n",
              "  <thead>\n",
              "    <tr style=\"text-align: right;\">\n",
              "      <th></th>\n",
              "      <th>perbandingan</th>\n",
              "    </tr>\n",
              "    <tr>\n",
              "      <th>province_name</th>\n",
              "      <th></th>\n",
              "    </tr>\n",
              "  </thead>\n",
              "  <tbody>\n",
              "    <tr>\n",
              "      <th>Papua</th>\n",
              "      <td>70.000000</td>\n",
              "    </tr>\n",
              "    <tr>\n",
              "      <th>Kalimantan Timur</th>\n",
              "      <td>64.705882</td>\n",
              "    </tr>\n",
              "    <tr>\n",
              "      <th>DKI Jakarta</th>\n",
              "      <td>44.198078</td>\n",
              "    </tr>\n",
              "  </tbody>\n",
              "</table>\n",
              "</div>"
            ],
            "text/plain": [
              "                  perbandingan\n",
              "province_name                 \n",
              "Papua                70.000000\n",
              "Kalimantan Timur     64.705882\n",
              "DKI Jakarta          44.198078"
            ]
          },
          "metadata": {},
          "execution_count": 261
        }
      ]
    },
    {
      "cell_type": "markdown",
      "metadata": {
        "id": "S18kbpL7g06P"
      },
      "source": [
        "**Soal 5**\n",
        "\n",
        "Dengan menggunakan pie chart, tampilkan persentase jumlah terkonfimasi positif untuk masing-masing pulau"
      ]
    },
    {
      "cell_type": "code",
      "metadata": {
        "colab": {
          "base_uri": "https://localhost:8080/"
        },
        "id": "bZH1nW5WjIlV",
        "outputId": "f3b01541-1c1c-46a8-becf-2728b9551e58"
      },
      "source": [
        "island = df_2['island'].unique()\n",
        "df = pd.DataFrame(island,columns=['island']) \n",
        "island"
      ],
      "execution_count": 262,
      "outputs": [
        {
          "output_type": "execute_result",
          "data": {
            "text/plain": [
              "array(['Sumatra', 'Kepulauan Nusa Tenggara', 'Jawa', 'Sulawesi',\n",
              "       'Kalimantan', 'Kepulauan Maluku', 'Papua'], dtype=object)"
            ]
          },
          "metadata": {},
          "execution_count": 262
        }
      ]
    },
    {
      "cell_type": "code",
      "metadata": {
        "colab": {
          "base_uri": "https://localhost:8080/",
          "height": 265
        },
        "id": "t6vmmi-lndKU",
        "outputId": "bee5480c-8f80-43f0-c3bd-81b134a50ac8"
      },
      "source": [
        "sum = []\n",
        "for i in range(len(island)):\n",
        "  temp = df_2.loc[df_2['island'] == island[i], 'confirmed'].sum()\n",
        "  sum.append(temp)\n",
        "sum = np.array(sum)\n",
        "pie = pd.DataFrame({'Island':island, 'Jumlah':sum})\n",
        "pie"
      ],
      "execution_count": 266,
      "outputs": [
        {
          "output_type": "execute_result",
          "data": {
            "text/html": [
              "<div>\n",
              "<style scoped>\n",
              "    .dataframe tbody tr th:only-of-type {\n",
              "        vertical-align: middle;\n",
              "    }\n",
              "\n",
              "    .dataframe tbody tr th {\n",
              "        vertical-align: top;\n",
              "    }\n",
              "\n",
              "    .dataframe thead th {\n",
              "        text-align: right;\n",
              "    }\n",
              "</style>\n",
              "<table border=\"1\" class=\"dataframe\">\n",
              "  <thead>\n",
              "    <tr style=\"text-align: right;\">\n",
              "      <th></th>\n",
              "      <th>Island</th>\n",
              "      <th>Jumlah</th>\n",
              "    </tr>\n",
              "  </thead>\n",
              "  <tbody>\n",
              "    <tr>\n",
              "      <th>0</th>\n",
              "      <td>Sumatra</td>\n",
              "      <td>29</td>\n",
              "    </tr>\n",
              "    <tr>\n",
              "      <th>1</th>\n",
              "      <td>Kepulauan Nusa Tenggara</td>\n",
              "      <td>11</td>\n",
              "    </tr>\n",
              "    <tr>\n",
              "      <th>2</th>\n",
              "      <td>Jawa</td>\n",
              "      <td>911</td>\n",
              "    </tr>\n",
              "    <tr>\n",
              "      <th>3</th>\n",
              "      <td>Sulawesi</td>\n",
              "      <td>35</td>\n",
              "    </tr>\n",
              "    <tr>\n",
              "      <th>4</th>\n",
              "      <td>Kalimantan</td>\n",
              "      <td>22</td>\n",
              "    </tr>\n",
              "    <tr>\n",
              "      <th>5</th>\n",
              "      <td>Kepulauan Maluku</td>\n",
              "      <td>2</td>\n",
              "    </tr>\n",
              "    <tr>\n",
              "      <th>6</th>\n",
              "      <td>Papua</td>\n",
              "      <td>7</td>\n",
              "    </tr>\n",
              "  </tbody>\n",
              "</table>\n",
              "</div>"
            ],
            "text/plain": [
              "                    Island  Jumlah\n",
              "0                  Sumatra      29\n",
              "1  Kepulauan Nusa Tenggara      11\n",
              "2                     Jawa     911\n",
              "3                 Sulawesi      35\n",
              "4               Kalimantan      22\n",
              "5         Kepulauan Maluku       2\n",
              "6                    Papua       7"
            ]
          },
          "metadata": {},
          "execution_count": 266
        }
      ]
    },
    {
      "cell_type": "code",
      "metadata": {
        "colab": {
          "base_uri": "https://localhost:8080/",
          "height": 699
        },
        "id": "OcRMNFHApZ9V",
        "outputId": "5c923135-ca9e-49df-f3e3-be654dd53fd2"
      },
      "source": [
        "pie['Jumlah'].plot(kind='pie',figsize=(30, 12),autopct='%1.1f%%',startangle=90, shadow=True,labels=None,pctdistance=1.12)\n",
        "plt.title('Persentase jumlah terkonfimasi positif untuk masing-masing pulau')\n",
        "plt.legend(labels=pie['Island'], loc='upper left') \n",
        "plt.show()"
      ],
      "execution_count": 267,
      "outputs": [
        {
          "output_type": "display_data",
          "data": {
            "image/png": "[encoded data removed]",
            "text/plain": [
              "<Figure size 2160x864 with 1 Axes>"
            ]
          },
          "metadata": {}
        }
      ]
    }
  ]
}